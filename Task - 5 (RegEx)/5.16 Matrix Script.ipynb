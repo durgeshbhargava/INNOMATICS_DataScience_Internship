{
 "cells": [
  {
   "cell_type": "code",
   "execution_count": null,
   "id": "5b8d4571",
   "metadata": {},
   "outputs": [],
   "source": [
    "## Matx Script"
   ]
  },
  {
   "cell_type": "code",
   "execution_count": 1,
   "id": "83ee1787",
   "metadata": {},
   "outputs": [
    {
     "name": "stdout",
     "output_type": "stream",
     "text": [
      "7 3\n",
      "Tsi\n",
      "h%x\n",
      "i #\n",
      "sM \n",
      "$a \n",
      "#t%\n",
      "ir!\n",
      "This is Matrix#  %!\n"
     ]
    }
   ],
   "source": [
    "#!/bin/python3\n",
    "\n",
    "import math\n",
    "import os\n",
    "import random\n",
    "import re\n",
    "import sys\n",
    "\n",
    "\n",
    "\n",
    "\n",
    "import re\n",
    "n, m = map(int,input().split())\n",
    "character_ar = [''] * (n*m)\n",
    "for i in range(n):\n",
    "    line = input()\n",
    "    for j in range(m):\n",
    "        character_ar[i+(j*n)]=line[j]\n",
    "decoded_str = ''.join(character_ar)\n",
    "final_decoded_str = re.sub(r'(?<=[A-Za-z0-9])([ !@#$%&]+)(?=[A-Za-z0-9])',' ',decoded_str)\n",
    "print(final_decoded_str)"
   ]
  }
 ],
 "metadata": {
  "kernelspec": {
   "display_name": "Python 3.8.10 64-bit",
   "language": "python",
   "name": "python3810jvsc74a57bd0916dbcbb3f70747c44a77c7bcd40155683ae19c65e1c03b4aa3499c5328201f1"
  },
  "language_info": {
   "codemirror_mode": {
    "name": "ipython",
    "version": 3
   },
   "file_extension": ".py",
   "mimetype": "text/x-python",
   "name": "python",
   "nbconvert_exporter": "python",
   "pygments_lexer": "ipython3",
   "version": "3.8.10"
  }
 },
 "nbformat": 4,
 "nbformat_minor": 5
}

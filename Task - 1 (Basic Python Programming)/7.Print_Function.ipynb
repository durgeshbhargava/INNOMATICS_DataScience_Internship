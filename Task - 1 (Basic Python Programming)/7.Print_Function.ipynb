{
 "cells": [
  {
   "cell_type": "markdown",
   "id": "a9d617f5",
   "metadata": {},
   "source": [
    "## 6. Print Function"
   ]
  },
  {
   "cell_type": "code",
   "execution_count": 1,
   "id": "40c25b7e",
   "metadata": {},
   "outputs": [
    {
     "name": "stdout",
     "output_type": "stream",
     "text": [
      "3\n",
      "123"
     ]
    }
   ],
   "source": [
    "n = int(input())\n",
    "def my_function():\n",
    "    for i in range(n):\n",
    "        i+=1\n",
    "        print((i), end=\"\")\n",
    "           \n",
    "my_function()"
   ]
  },
  {
   "cell_type": "code",
   "execution_count": null,
   "id": "69d8578a",
   "metadata": {},
   "outputs": [],
   "source": []
  },
  {
   "cell_type": "code",
   "execution_count": null,
   "id": "add221df",
   "metadata": {},
   "outputs": [],
   "source": []
  }
 ],
 "metadata": {
  "kernelspec": {
   "display_name": "Python 3",
   "language": "python",
   "name": "python3"
  },
  "language_info": {
   "codemirror_mode": {
    "name": "ipython",
    "version": 3
   },
   "file_extension": ".py",
   "mimetype": "text/x-python",
   "name": "python",
   "nbconvert_exporter": "python",
   "pygments_lexer": "ipython3",
   "version": "3.8.8"
  }
 },
 "nbformat": 4,
 "nbformat_minor": 5
}

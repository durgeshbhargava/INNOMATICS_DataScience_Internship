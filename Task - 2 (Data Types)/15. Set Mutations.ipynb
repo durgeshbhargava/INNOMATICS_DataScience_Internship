{
 "cells": [
  {
   "cell_type": "markdown",
   "id": "882ee01b",
   "metadata": {},
   "source": [
    "## 15.Set Mutations"
   ]
  },
  {
   "cell_type": "code",
   "execution_count": 1,
   "id": "b137ae11",
   "metadata": {},
   "outputs": [
    {
     "name": "stdout",
     "output_type": "stream",
     "text": [
      "16\n",
      "1 2 3 4 5 6 7 8 9 10 11 12 13 14 24 52\n",
      "4\n",
      "intersection_update 10\n",
      " 2 3 5 6 8 9 1 4 7 11\n",
      "update 2\n",
      "55 66\n",
      "symmetric_difference_update 5\n",
      "22 7 35 62 58\n",
      "difference_update 7\n",
      "11 22 35 55 58 62 66\n",
      "38\n"
     ]
    }
   ],
   "source": [
    "# Enter your code here. Read input from STDIN. Print output to STDOUT\n",
    "length=int(input())\n",
    "s=set(map(int, input().split()))\n",
    "N=int(input())\n",
    "\n",
    "for i in range(N):\n",
    "    (p, q)=input().split()\n",
    "    s2=set(map(int, input().split()))\n",
    "    if p=='intersection_update':\n",
    "        s.intersection_update(s2)\n",
    "    elif p=='update':\n",
    "        s.update(s2)\n",
    "    elif p=='symmetric_difference_update':\n",
    "        s.symmetric_difference_update(s2)\n",
    "    elif p=='difference_update':\n",
    "        s.difference_update(s2)\n",
    "print (sum(s))\n"
   ]
  }
 ],
 "metadata": {
  "kernelspec": {
   "display_name": "Python 3",
   "language": "python",
   "name": "python3"
  },
  "language_info": {
   "codemirror_mode": {
    "name": "ipython",
    "version": 3
   },
   "file_extension": ".py",
   "mimetype": "text/x-python",
   "name": "python",
   "nbconvert_exporter": "python",
   "pygments_lexer": "ipython3",
   "version": "3.8.8"
  }
 },
 "nbformat": 4,
 "nbformat_minor": 5
}

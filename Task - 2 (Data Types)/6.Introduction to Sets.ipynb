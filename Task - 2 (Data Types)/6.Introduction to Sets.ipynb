{
 "cells": [
  {
   "cell_type": "markdown",
   "id": "5be55f6e",
   "metadata": {},
   "source": [
    "## 6. Introduction to Sets"
   ]
  },
  {
   "cell_type": "code",
   "execution_count": 9,
   "id": "e93b78d7",
   "metadata": {},
   "outputs": [],
   "source": [
    "def average(array):\n",
    "    # your code goes here\n",
    "    return sum(set(array))/len(set(array))\n",
    "if __name__ == '__main__':"
   ]
  }
 ],
 "metadata": {
  "kernelspec": {
   "display_name": "Python 3",
   "language": "python",
   "name": "python3"
  },
  "language_info": {
   "codemirror_mode": {
    "name": "ipython",
    "version": 3
   },
   "file_extension": ".py",
   "mimetype": "text/x-python",
   "name": "python",
   "nbconvert_exporter": "python",
   "pygments_lexer": "ipython3",
   "version": "3.8.8"
  }
 },
 "nbformat": 4,
 "nbformat_minor": 5
}

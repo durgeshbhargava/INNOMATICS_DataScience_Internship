{
 "cells": [
  {
   "cell_type": "markdown",
   "id": "1beee74d",
   "metadata": {},
   "source": [
    "## 4. Lists"
   ]
  },
  {
   "cell_type": "code",
   "execution_count": 30,
   "id": "f52ed50e",
   "metadata": {},
   "outputs": [
    {
     "name": "stdout",
     "output_type": "stream",
     "text": [
      "12\n",
      "insert 0 5\n",
      "insert 1 10\n",
      "insert 0 6\n",
      "print\n",
      "[6, 5, 10]\n",
      "remove 6\n",
      "append 9\n",
      "append 1\n",
      "sort\n",
      "print\n",
      "[1, 5, 9, 10]\n",
      "pop\n",
      "reverse\n",
      "print \n",
      "[9, 5, 1]\n"
     ]
    }
   ],
   "source": [
    "lst=[]\n",
    "n = int(input())\n",
    "       \n",
    "for i in range(n):\n",
    "    cmd = input().split()\n",
    "    if cmd[0]=='insert':\n",
    "        lst.insert(int(cmd[1]), int(cmd[2]))\n",
    "    elif cmd[0]=='print':\n",
    "        print(lst)\n",
    "    elif cmd[0]=='remove':\n",
    "        lst.remove(int(cmd[1]))\n",
    "    elif cmd[0]=='append':\n",
    "        lst.append(int(cmd[1]))\n",
    "    elif cmd[0]=='sort':\n",
    "        lst.sort()\n",
    "    elif cmd[0]=='pop':\n",
    "        lst.pop()\n",
    "    else:\n",
    "        lst.reverse()\n",
    " #12\n",
    "#insert 0 5\n",
    "#insert 1 10\n",
    "#insert 0 6\n",
    "#print\n",
    "#remove 6\n",
    "#append 9\n",
    "#append 1\n",
    "#sort\n",
    "#print\n",
    "#pop\n",
    "#reverse\n",
    "#print       \n",
    "                  \n",
    "                  \n",
    "                  \n",
    "       \n",
    "            \n",
    "                  \n",
    "                  \n",
    "       \n",
    "       "
   ]
  },
  {
   "cell_type": "code",
   "execution_count": null,
   "id": "3b93b931",
   "metadata": {},
   "outputs": [],
   "source": []
  },
  {
   "cell_type": "code",
   "execution_count": null,
   "id": "bbc1d13c",
   "metadata": {},
   "outputs": [],
   "source": []
  }
 ],
 "metadata": {
  "kernelspec": {
   "display_name": "Python 3",
   "language": "python",
   "name": "python3"
  },
  "language_info": {
   "codemirror_mode": {
    "name": "ipython",
    "version": 3
   },
   "file_extension": ".py",
   "mimetype": "text/x-python",
   "name": "python",
   "nbconvert_exporter": "python",
   "pygments_lexer": "ipython3",
   "version": "3.8.8"
  }
 },
 "nbformat": 4,
 "nbformat_minor": 5
}

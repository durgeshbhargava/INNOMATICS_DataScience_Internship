{
 "cells": [
  {
   "cell_type": "markdown",
   "id": "398c47b3",
   "metadata": {},
   "source": [
    "## 7. No Idea!"
   ]
  },
  {
   "cell_type": "code",
   "execution_count": 7,
   "id": "c15bb987",
   "metadata": {},
   "outputs": [
    {
     "name": "stdout",
     "output_type": "stream",
     "text": [
      "3 2\n",
      "1 5 3\n",
      "3 1\n",
      "5 7\n",
      "1\n"
     ]
    }
   ],
   "source": [
    "# Enter your code here. Read input from STDIN. Print output to STDOUT\n",
    "n,m = map(int, input().split())\n",
    "array = list(map(int, input().split()))\n",
    "A= set(map(int, input().split()))\n",
    "B = set(map(int, input().split()))\n",
    "print(sum((i in A)-(i in B)for i in array))\n"
   ]
  },
  {
   "cell_type": "code",
   "execution_count": null,
   "id": "7b462cf6",
   "metadata": {},
   "outputs": [],
   "source": []
  }
 ],
 "metadata": {
  "kernelspec": {
   "display_name": "Python 3",
   "language": "python",
   "name": "python3"
  },
  "language_info": {
   "codemirror_mode": {
    "name": "ipython",
    "version": 3
   },
   "file_extension": ".py",
   "mimetype": "text/x-python",
   "name": "python",
   "nbconvert_exporter": "python",
   "pygments_lexer": "ipython3",
   "version": "3.8.8"
  }
 },
 "nbformat": 4,
 "nbformat_minor": 5
}

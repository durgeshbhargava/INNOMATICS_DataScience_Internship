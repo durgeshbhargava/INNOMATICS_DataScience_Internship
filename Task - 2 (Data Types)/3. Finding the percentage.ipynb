{
 "cells": [
  {
   "cell_type": "markdown",
   "id": "0180e883",
   "metadata": {},
   "source": [
    "## 3. Finding the percentage"
   ]
  },
  {
   "cell_type": "code",
   "execution_count": 8,
   "id": "9608939a",
   "metadata": {},
   "outputs": [
    {
     "name": "stdout",
     "output_type": "stream",
     "text": [
      "3\n",
      "Krishna 67 68 69\n",
      "Arjun 70 98 63\n",
      "Malika 52 56 60\n",
      "Malika\n",
      "56.00\n"
     ]
    }
   ],
   "source": [
    "if __name__ == '__main__':\n",
    "    n = int(input())\n",
    "    student_marks = {}\n",
    "    for i in range(n):\n",
    "        name, *line = input().split()\n",
    "        scores = list(map(float, line))\n",
    "        student_marks[name] = scores\n",
    "    query_name = input()\n",
    "    marks= student_marks[query_name]\n",
    "    print(format(sum(marks)/3,'.2f'))\n",
    "#3\n",
    "#Krishna 67 68 69\n",
    "#Arjun 70 98 63\n",
    "#Malika 52 56 60\n",
    "#Malika"
   ]
  },
  {
   "cell_type": "code",
   "execution_count": 9,
   "id": "76e9d584",
   "metadata": {},
   "outputs": [
    {
     "name": "stdout",
     "output_type": "stream",
     "text": [
      "2\n",
      "Harsh 25 26.5 28\n",
      "Anurag 26 28 30\n",
      "Harsh\n",
      "26.50\n"
     ]
    }
   ],
   "source": [
    "if __name__ == '__main__':\n",
    "    n = int(input())\n",
    "    student_marks = {}\n",
    "    for i in range(n):\n",
    "        name, *line = input().split()\n",
    "        scores = list(map(float, line))\n",
    "        student_marks[name] = scores\n",
    "    query_name = input()\n",
    "    marks= student_marks[query_name]\n",
    "    print(format(sum(marks)/3,'.2f'))\n",
    "#2\n",
    "#Harsh 25 26.5 28\n",
    "#Anurag 26 28 30\n",
    "#Harsh"
   ]
  }
 ],
 "metadata": {
  "kernelspec": {
   "display_name": "Python 3",
   "language": "python",
   "name": "python3"
  },
  "language_info": {
   "codemirror_mode": {
    "name": "ipython",
    "version": 3
   },
   "file_extension": ".py",
   "mimetype": "text/x-python",
   "name": "python",
   "nbconvert_exporter": "python",
   "pygments_lexer": "ipython3",
   "version": "3.8.8"
  }
 },
 "nbformat": 4,
 "nbformat_minor": 5
}

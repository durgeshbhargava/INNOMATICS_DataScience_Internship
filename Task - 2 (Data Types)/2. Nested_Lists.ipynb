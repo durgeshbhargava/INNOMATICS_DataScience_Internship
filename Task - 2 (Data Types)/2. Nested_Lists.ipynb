{
 "cells": [
  {
   "cell_type": "markdown",
   "id": "9329efbd",
   "metadata": {},
   "source": [
    "## 2. Nested Lists"
   ]
  },
  {
   "cell_type": "code",
   "execution_count": null,
   "id": "c1d6936c",
   "metadata": {},
   "outputs": [
    {
     "name": "stdout",
     "output_type": "stream",
     "text": [
      "5\n",
      "Harry\n",
      "37.21\n",
      "Berry\n",
      "37.21\n",
      "Tina\n",
      "37.2\n"
     ]
    }
   ],
   "source": [
    "n = int(input())\n",
    "res=[]\n",
    "grade = []\n",
    "for i in range(n):\n",
    "    name = input()\n",
    "    mark = float(input())\n",
    "    res.append([name,mark])\n",
    "    grade.append(mark)\n",
    "grade= sorted(set(grade))\n",
    "m= grade[1]\n",
    "name= []\n",
    "for val in res:\n",
    "    if m==val[1]:\n",
    "        name.append(val[0])\n",
    "name.sort()\n",
    "for nm in name:\n",
    "    print(nm)\n",
    "# 5\n",
    "# Harry\n",
    "# 37.21\n",
    "# Berry\n",
    "# 37.21\n",
    "# Tina\n",
    "# 37.2\n",
    "# Akriti\n",
    "# 41\n",
    "# Harsh\n",
    "# 39"
   ]
  },
  {
   "cell_type": "code",
   "execution_count": null,
   "id": "3eb5eabf",
   "metadata": {},
   "outputs": [],
   "source": []
  }
 ],
 "metadata": {
  "kernelspec": {
   "display_name": "Python 3",
   "language": "python",
   "name": "python3"
  },
  "language_info": {
   "codemirror_mode": {
    "name": "ipython",
    "version": 3
   },
   "file_extension": ".py",
   "mimetype": "text/x-python",
   "name": "python",
   "nbconvert_exporter": "python",
   "pygments_lexer": "ipython3",
   "version": "3.8.8"
  }
 },
 "nbformat": 4,
 "nbformat_minor": 5
}

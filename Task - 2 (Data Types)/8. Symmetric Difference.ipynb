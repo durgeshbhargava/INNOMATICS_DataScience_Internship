{
 "cells": [
  {
   "cell_type": "markdown",
   "id": "630180df",
   "metadata": {},
   "source": [
    "## 8.Symmetric Difference"
   ]
  },
  {
   "cell_type": "code",
   "execution_count": 11,
   "id": "50841946",
   "metadata": {},
   "outputs": [
    {
     "name": "stdout",
     "output_type": "stream",
     "text": [
      "4\n",
      "2 4 5 9\n",
      "4\n",
      "2 4 11 12\n",
      "5\n",
      "9\n",
      "11\n",
      "12\n"
     ]
    }
   ],
   "source": [
    "# Enter your code here. Read input from STDIN. Print output to STDOUT\n",
    "a,b = (int(input()),input().split())\n",
    "c,d = (int(input()),input().split())\n",
    "x = set(b)\n",
    "y = set(d)\n",
    "p = y.difference(x)\n",
    "q = x.difference(y)\n",
    "r = p.union(q)\n",
    "print('\\n'.join(sorted(r,key=int)))"
   ]
  }
 ],
 "metadata": {
  "kernelspec": {
   "display_name": "Python 3",
   "language": "python",
   "name": "python3"
  },
  "language_info": {
   "codemirror_mode": {
    "name": "ipython",
    "version": 3
   },
   "file_extension": ".py",
   "mimetype": "text/x-python",
   "name": "python",
   "nbconvert_exporter": "python",
   "pygments_lexer": "ipython3",
   "version": "3.8.8"
  }
 },
 "nbformat": 4,
 "nbformat_minor": 5
}

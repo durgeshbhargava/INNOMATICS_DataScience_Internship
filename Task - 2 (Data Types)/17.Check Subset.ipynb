{
 "cells": [
  {
   "cell_type": "markdown",
   "id": "6b89c945",
   "metadata": {},
   "source": [
    "## 17.Check Subset"
   ]
  },
  {
   "cell_type": "code",
   "execution_count": 4,
   "id": "3066e29f",
   "metadata": {},
   "outputs": [
    {
     "name": "stdout",
     "output_type": "stream",
     "text": [
      "3\n",
      "5\n",
      "1 2 3 5 6\n",
      "9\n",
      "9 8 5 6 3 2 1 4 7\n",
      "True\n",
      "1\n",
      "2\n",
      "5\n",
      "3 6 5 4 1\n",
      "False\n",
      "7\n",
      "1 2 3 5 6 8 9\n",
      "3\n",
      "9 8 2\n",
      "False\n"
     ]
    }
   ],
   "source": [
    "# Enter your code here. Read input from STDIN. Print output to STDOUT\n",
    "def checker():\n",
    "    x = int(input())\n",
    "    s1= set(map(int,input().split()))\n",
    "    y = int(input())\n",
    "    s2= set(map(int,input().split()))\n",
    "    l=[]\n",
    "    for i in s1:\n",
    "        if i in s2:\n",
    "            l.append(i)\n",
    "    l=set(l)\n",
    "    if l==s1:\n",
    "        print(True)\n",
    "    else:\n",
    "        print(False)\n",
    "    \n",
    "t = int(input())\n",
    "for i in range(t):\n",
    "    checker()\n"
   ]
  }
 ],
 "metadata": {
  "kernelspec": {
   "display_name": "Python 3",
   "language": "python",
   "name": "python3"
  },
  "language_info": {
   "codemirror_mode": {
    "name": "ipython",
    "version": 3
   },
   "file_extension": ".py",
   "mimetype": "text/x-python",
   "name": "python",
   "nbconvert_exporter": "python",
   "pygments_lexer": "ipython3",
   "version": "3.8.8"
  }
 },
 "nbformat": 4,
 "nbformat_minor": 5
}

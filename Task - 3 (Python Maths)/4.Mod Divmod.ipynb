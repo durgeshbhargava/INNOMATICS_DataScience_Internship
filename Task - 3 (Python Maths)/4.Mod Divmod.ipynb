{
 "cells": [
  {
   "cell_type": "markdown",
   "id": "bb3e2f5d",
   "metadata": {},
   "source": [
    "## 4.Mod Divmod"
   ]
  },
  {
   "cell_type": "code",
   "execution_count": 1,
   "id": "d52e995b",
   "metadata": {},
   "outputs": [
    {
     "name": "stdout",
     "output_type": "stream",
     "text": [
      "177\n",
      "10\n",
      "17\n",
      "7\n",
      "(17, 7)\n"
     ]
    }
   ],
   "source": [
    "# Enter your code here. Read input from STDIN. Print output to STDOUT\n",
    "a = int(input())\n",
    "b = int(input())\n",
    "print(f\"\"\"{a//b}\n",
    "{a%b}\"\"\")\n",
    "print(f\"({a//b}, {a%b})\")"
   ]
  }
 ],
 "metadata": {
  "kernelspec": {
   "display_name": "Python 3.8.10 64-bit",
   "language": "python",
   "name": "python3810jvsc74a57bd0916dbcbb3f70747c44a77c7bcd40155683ae19c65e1c03b4aa3499c5328201f1"
  },
  "language_info": {
   "codemirror_mode": {
    "name": "ipython",
    "version": 3
   },
   "file_extension": ".py",
   "mimetype": "text/x-python",
   "name": "python",
   "nbconvert_exporter": "python",
   "pygments_lexer": "ipython3",
   "version": "3.8.10"
  }
 },
 "nbformat": 4,
 "nbformat_minor": 5
}

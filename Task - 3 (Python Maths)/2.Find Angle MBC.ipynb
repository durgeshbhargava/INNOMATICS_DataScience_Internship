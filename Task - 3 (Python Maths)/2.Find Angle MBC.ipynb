{
 "cells": [
  {
   "cell_type": "markdown",
   "id": "62637057",
   "metadata": {},
   "source": [
    "## 2.Find Angle MBC"
   ]
  },
  {
   "cell_type": "code",
   "execution_count": 1,
   "id": "0f579217",
   "metadata": {},
   "outputs": [
    {
     "name": "stdout",
     "output_type": "stream",
     "text": [
      "10\n",
      "10\n",
      "45°\n"
     ]
    }
   ],
   "source": [
    "import math\n",
    "ab = int(input())\n",
    "bc = int(input())\n",
    "ac = math.sqrt((ab**2) + (bc**2))\n",
    "mc = ac/2\n",
    "angle  = math.degrees(math.atan(ab/bc))\n",
    "\n",
    "print(round(angle),chr(176),sep ='')"
   ]
  }
 ],
 "metadata": {
  "kernelspec": {
   "display_name": "Python 3",
   "language": "python",
   "name": "python3"
  },
  "language_info": {
   "codemirror_mode": {
    "name": "ipython",
    "version": 3
   },
   "file_extension": ".py",
   "mimetype": "text/x-python",
   "name": "python",
   "nbconvert_exporter": "python",
   "pygments_lexer": "ipython3",
   "version": "3.8.8"
  }
 },
 "nbformat": 4,
 "nbformat_minor": 5
}

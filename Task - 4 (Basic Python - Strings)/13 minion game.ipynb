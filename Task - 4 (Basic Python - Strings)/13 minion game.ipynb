{
 "cells": [
  {
   "cell_type": "code",
   "execution_count": 1,
   "id": "f714ec91",
   "metadata": {},
   "outputs": [
    {
     "name": "stdout",
     "output_type": "stream",
     "text": [
      "BANANA\n",
      "Stuart 12\n"
     ]
    }
   ],
   "source": [
    "def minion_game(string):\n",
    "    # your code goes here\n",
    "\n",
    "    vow = 0\n",
    "    c = 0\n",
    "    vowel = 'AEIOU'\n",
    "    for i in range(len(string)):\n",
    "        if string[i] not in vowel:\n",
    "            c+= len(string[i:])\n",
    "        else:\n",
    "            vow+= len(string[i:])\n",
    "    if vow>c:\n",
    "        print('Kevin', vow)\n",
    "    elif vow<c:\n",
    "        print('Stuart', c)\n",
    "    else:\n",
    "        print(\"Draw\")\n",
    "        \n",
    "            \n",
    "\n",
    "if __name__ == '__main__':\n",
    "    s = input()\n",
    "    minion_game(s)\n"
   ]
  }
 ],
 "metadata": {
  "kernelspec": {
   "display_name": "Python 3",
   "language": "python",
   "name": "python3"
  },
  "language_info": {
   "codemirror_mode": {
    "name": "ipython",
    "version": 3
   },
   "file_extension": ".py",
   "mimetype": "text/x-python",
   "name": "python",
   "nbconvert_exporter": "python",
   "pygments_lexer": "ipython3",
   "version": "3.9.5"
  }
 },
 "nbformat": 4,
 "nbformat_minor": 5
}

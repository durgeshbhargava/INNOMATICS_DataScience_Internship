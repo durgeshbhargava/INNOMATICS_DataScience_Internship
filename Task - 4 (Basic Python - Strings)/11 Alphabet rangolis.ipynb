{
 "cells": [
  {
   "cell_type": "code",
   "execution_count": 1,
   "id": "2bbe0be3",
   "metadata": {},
   "outputs": [
    {
     "name": "stdout",
     "output_type": "stream",
     "text": [
      "5\n",
      "--------e--------\n",
      "------e-d-e------\n",
      "----e-d-c-d-e----\n",
      "--e-d-c-b-c-d-e--\n",
      "e-d-c-b-a-b-c-d-e\n",
      "--e-d-c-b-c-d-e--\n",
      "----e-d-c-d-e----\n",
      "------e-d-e------\n",
      "--------e--------\n"
     ]
    }
   ],
   "source": [
    "import string\n",
    "alphabets = string.ascii_lowercase\n",
    "\n",
    "def print_rangoli(size):\n",
    "    # your code goes here\n",
    "    le = []\n",
    "    for i in range(n):\n",
    "        word = \"-\".join(alphabets[i:n])\n",
    "        le.append(word[::-1] + word[1:])\n",
    "    for i in le[::-1]:\n",
    "        print(i.center(4*n-3,\"-\"))\n",
    "    for i in le[1:]:\n",
    "        print(i.center(4*n-3, \"-\"))\n",
    "    \n",
    "\n",
    "if __name__ == '__main__':\n",
    "    n = int(input())\n",
    "    print_rangoli(n)"
   ]
  }
 ],
 "metadata": {
  "kernelspec": {
   "display_name": "Python 3",
   "language": "python",
   "name": "python3"
  },
  "language_info": {
   "codemirror_mode": {
    "name": "ipython",
    "version": 3
   },
   "file_extension": ".py",
   "mimetype": "text/x-python",
   "name": "python",
   "nbconvert_exporter": "python",
   "pygments_lexer": "ipython3",
   "version": "3.9.5"
  }
 },
 "nbformat": 4,
 "nbformat_minor": 5
}

{
 "cells": [
  {
   "cell_type": "markdown",
   "id": "ed14f4a4",
   "metadata": {},
   "source": [
    "## 5.String Validators"
   ]
  },
  {
   "cell_type": "code",
   "execution_count": 5,
   "id": "363c48b5",
   "metadata": {},
   "outputs": [
    {
     "name": "stdout",
     "output_type": "stream",
     "text": [
      "qA2\n",
      "True\n",
      "True\n",
      "True\n",
      "True\n",
      "True\n"
     ]
    }
   ],
   "source": [
    "if __name__ == '__main__':\n",
    "    s = input()\n",
    "    print(any(map(str.isalnum, s)))\n",
    "    print(any(map(str.isalpha, s)))\n",
    "    print(any(map(str.isdigit, s)))\n",
    "    print(any(map(str.islower, s)))\n",
    "    print(any(map(str.isupper, s)))"
   ]
  }
 ],
 "metadata": {
  "kernelspec": {
   "display_name": "Python 3",
   "language": "python",
   "name": "python3"
  },
  "language_info": {
   "codemirror_mode": {
    "name": "ipython",
    "version": 3
   },
   "file_extension": ".py",
   "mimetype": "text/x-python",
   "name": "python",
   "nbconvert_exporter": "python",
   "pygments_lexer": "ipython3",
   "version": "3.9.5"
  }
 },
 "nbformat": 4,
 "nbformat_minor": 5
}

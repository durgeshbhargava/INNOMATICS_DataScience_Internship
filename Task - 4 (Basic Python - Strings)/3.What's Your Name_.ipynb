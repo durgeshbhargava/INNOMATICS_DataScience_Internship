{
 "cells": [
  {
   "cell_type": "markdown",
   "id": "283224db",
   "metadata": {},
   "source": [
    "## 3. What's Your Name?"
   ]
  },
  {
   "cell_type": "code",
   "execution_count": 1,
   "id": "78f21693",
   "metadata": {},
   "outputs": [
    {
     "name": "stdout",
     "output_type": "stream",
     "text": [
      "Ross\n",
      "Taylor\n",
      "Hello Ross Taylor! You just delved into python.\n"
     ]
    }
   ],
   "source": [
    "def print_full_name(first, last):\n",
    "    print(\"Hello {0} {1}! You just delved into python.\".format(first, last))\n",
    "if __name__ == '__main__':\n",
    "    first_name = input()\n",
    "    last_name = input()\n",
    "    print_full_name(first_name, last_name)"
   ]
  }
 ],
 "metadata": {
  "kernelspec": {
   "display_name": "Python 3",
   "language": "python",
   "name": "python3"
  },
  "language_info": {
   "codemirror_mode": {
    "name": "ipython",
    "version": 3
   },
   "file_extension": ".py",
   "mimetype": "text/x-python",
   "name": "python",
   "nbconvert_exporter": "python",
   "pygments_lexer": "ipython3",
   "version": "3.9.5"
  }
 },
 "nbformat": 4,
 "nbformat_minor": 5
}

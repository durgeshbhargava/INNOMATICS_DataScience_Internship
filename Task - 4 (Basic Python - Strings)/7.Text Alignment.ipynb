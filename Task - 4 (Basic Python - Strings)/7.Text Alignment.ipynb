{
 "cells": [
  {
   "cell_type": "markdown",
   "id": "493a30f7",
   "metadata": {},
   "source": [
    "## 7.Text Alignment"
   ]
  },
  {
   "cell_type": "code",
   "execution_count": 1,
   "id": "581be0e1",
   "metadata": {},
   "outputs": [
    {
     "name": "stdout",
     "output_type": "stream",
     "text": [
      "5\n",
      "    H    \n",
      "   HHH   \n",
      "  HHHHH  \n",
      " HHHHHHH \n",
      "HHHHHHHHH\n",
      "  HHHHH               HHHHH             \n",
      "  HHHHH               HHHHH             \n",
      "  HHHHH               HHHHH             \n",
      "  HHHHH               HHHHH             \n",
      "  HHHHH               HHHHH             \n",
      "  HHHHH               HHHHH             \n",
      "  HHHHHHHHHHHHHHHHHHHHHHHHH   \n",
      "  HHHHHHHHHHHHHHHHHHHHHHHHH   \n",
      "  HHHHHHHHHHHHHHHHHHHHHHHHH   \n",
      "  HHHHH               HHHHH             \n",
      "  HHHHH               HHHHH             \n",
      "  HHHHH               HHHHH             \n",
      "  HHHHH               HHHHH             \n",
      "  HHHHH               HHHHH             \n",
      "  HHHHH               HHHHH             \n",
      "                    HHHHHHHHH \n",
      "                     HHHHHHH  \n",
      "                      HHHHH   \n",
      "                       HHH    \n",
      "                        H     \n"
     ]
    }
   ],
   "source": [
    "def main():\n",
    "    # Replace all ______ with rjust, ljust or center. \n",
    "\n",
    "    thickness = int(input())  # This must be an odd number\n",
    "    c = 'H'\n",
    "    \n",
    "    # Top Cone\n",
    "    for i in range(thickness):\n",
    "        print((c * i).rjust(thickness - 1) + c + (c * i).ljust(thickness - 1))\n",
    "    \n",
    "    # Top Pillars\n",
    "    for i in range(thickness + 1):\n",
    "        print((c * thickness).center(thickness * 2) + (c * thickness).center(thickness * 6))\n",
    "    \n",
    "    # Middle Belt\n",
    "    for i in range((thickness + 1) // 2):\n",
    "        print((c * thickness * 5).center(thickness * 6))    \n",
    "    \n",
    "    # Bottom Pillars\n",
    "    for i in range(thickness + 1):\n",
    "        print((c * thickness).center(thickness * 2) + (c * thickness).center(thickness * 6))    \n",
    "    \n",
    "    # Bottom Cone\n",
    "    for i in range(thickness):\n",
    "        print(((c * (thickness - i - 1)).rjust(thickness) + c + (c * (thickness - i - 1)).ljust(thickness)).rjust(thickness * 6))  \n",
    "\n",
    "if __name__ == '__main__':\n",
    "    main()"
   ]
  },
  {
   "cell_type": "code",
   "execution_count": null,
   "id": "af38de6f",
   "metadata": {},
   "outputs": [],
   "source": []
  }
 ],
 "metadata": {
  "kernelspec": {
   "display_name": "Python 3",
   "language": "python",
   "name": "python3"
  },
  "language_info": {
   "codemirror_mode": {
    "name": "ipython",
    "version": 3
   },
   "file_extension": ".py",
   "mimetype": "text/x-python",
   "name": "python",
   "nbconvert_exporter": "python",
   "pygments_lexer": "ipython3",
   "version": "3.8.8"
  }
 },
 "nbformat": 4,
 "nbformat_minor": 5
}

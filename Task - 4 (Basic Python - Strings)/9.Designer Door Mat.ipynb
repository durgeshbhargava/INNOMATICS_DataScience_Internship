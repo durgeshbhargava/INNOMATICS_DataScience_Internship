{
 "cells": [
  {
   "cell_type": "markdown",
   "id": "47eb9552",
   "metadata": {},
   "source": [
    "## 9.Designer Door Mat"
   ]
  },
  {
   "cell_type": "code",
   "execution_count": 1,
   "id": "c20cb14f",
   "metadata": {},
   "outputs": [
    {
     "name": "stdout",
     "output_type": "stream",
     "text": [
      "9 27\n",
      "------------.|.------------\n",
      "---------.|..|..|.---------\n",
      "------.|..|..|..|..|.------\n",
      "---.|..|..|..|..|..|..|.---\n",
      "----------WELCOME----------\n",
      "---.|..|..|..|..|..|..|.---\n",
      "------.|..|..|..|..|.------\n",
      "---------.|..|..|.---------\n",
      "------------.|.------------\n"
     ]
    }
   ],
   "source": [
    "N, M = map(int,input().split())\n",
    "for i in range(1,N,2): \n",
    "    print((i * \".|.\").center(M, \"-\"))\n",
    "print(\"WELCOME\".center(M,\"-\"))\n",
    "for i in range(N-2,-1,-2): \n",
    "    print((i * \".|.\").center(M, \"-\"))"
   ]
  }
 ],
 "metadata": {
  "kernelspec": {
   "display_name": "Python 3.8.10 64-bit",
   "language": "python",
   "name": "python3810jvsc74a57bd0916dbcbb3f70747c44a77c7bcd40155683ae19c65e1c03b4aa3499c5328201f1"
  },
  "language_info": {
   "codemirror_mode": {
    "name": "ipython",
    "version": 3
   },
   "file_extension": ".py",
   "mimetype": "text/x-python",
   "name": "python",
   "nbconvert_exporter": "python",
   "pygments_lexer": "ipython3",
   "version": "3.8.10"
  }
 },
 "nbformat": 4,
 "nbformat_minor": 5
}
